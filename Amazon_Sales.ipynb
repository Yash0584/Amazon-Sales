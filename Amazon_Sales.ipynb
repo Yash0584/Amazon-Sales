{
  "nbformat": 4,
  "nbformat_minor": 0,
  "metadata": {
    "colab": {
      "provenance": []
    },
    "kernelspec": {
      "name": "python3",
      "display_name": "Python 3"
    },
    "language_info": {
      "name": "python"
    }
  },
  "cells": [
    {
      "cell_type": "code",
      "execution_count": null,
      "metadata": {
        "id": "Zyef2trzdoH6"
      },
      "outputs": [],
      "source": []
    },
    {
      "cell_type": "code",
      "source": [
        "import pandas as pd\n",
        "import numpy as np\n",
        "import matplotlib.pyplot as plt\n"
      ],
      "metadata": {
        "id": "o7Golqkzdvpo"
      },
      "execution_count": 1,
      "outputs": []
    },
    {
      "cell_type": "code",
      "source": [
        "\n",
        "#extracting data from csv file using pandas library\n",
        "df=pd.read_csv(\"Amazon Sale Report.csv\",encoding='latin1')\n",
        "#display the first 5 rows of dataset\n",
        "print(df.head())\n",
        "#display information about the dataset\n",
        "print(df.info())\n",
        "\n"
      ],
      "metadata": {
        "colab": {
          "base_uri": "https://localhost:8080/"
        },
        "id": "bB5p3s5Xd1cf",
        "outputId": "3e0390df-1a7b-4a45-94dd-1543b98e8af1"
      },
      "execution_count": 2,
      "outputs": [
        {
          "output_type": "stream",
          "name": "stdout",
          "text": [
            "   index             Order ID      Date                        Status  \\\n",
            "0      0  405-8078784-5731545  04-30-22                     Cancelled   \n",
            "1      1  171-9198151-1101146  04-30-22  Shipped - Delivered to Buyer   \n",
            "2      2  404-0687676-7273146  04-30-22                       Shipped   \n",
            "3      3  403-9615377-8133951  04-30-22                     Cancelled   \n",
            "4      4  407-1069790-7240320  04-30-22                       Shipped   \n",
            "\n",
            "  Fulfilment Sales Channel ship-service-level  Category Size Courier Status  \\\n",
            "0   Merchant     Amazon.in           Standard   T-shirt    S     On the Way   \n",
            "1   Merchant     Amazon.in           Standard     Shirt  3XL        Shipped   \n",
            "2     Amazon     Amazon.in          Expedited     Shirt   XL        Shipped   \n",
            "3   Merchant     Amazon.in           Standard   Blazzer    L     On the Way   \n",
            "4     Amazon     Amazon.in          Expedited  Trousers  3XL        Shipped   \n",
            "\n",
            "   ...  currency  Amount    ship-city   ship-state ship-postal-code  \\\n",
            "0  ...       INR  647.62       MUMBAI  MAHARASHTRA         400081.0   \n",
            "1  ...       INR  406.00    BENGALURU    KARNATAKA         560085.0   \n",
            "2  ...       INR  329.00  NAVI MUMBAI  MAHARASHTRA         410210.0   \n",
            "3  ...       INR  753.33   PUDUCHERRY   PUDUCHERRY         605008.0   \n",
            "4  ...       INR  574.00      CHENNAI   TAMIL NADU         600073.0   \n",
            "\n",
            "   ship-country    B2B  fulfilled-by New  PendingS  \n",
            "0            IN  False     Easy Ship NaN       NaN  \n",
            "1            IN  False     Easy Ship NaN       NaN  \n",
            "2            IN   True           NaN NaN       NaN  \n",
            "3            IN  False     Easy Ship NaN       NaN  \n",
            "4            IN  False           NaN NaN       NaN  \n",
            "\n",
            "[5 rows x 21 columns]\n",
            "<class 'pandas.core.frame.DataFrame'>\n",
            "RangeIndex: 128976 entries, 0 to 128975\n",
            "Data columns (total 21 columns):\n",
            " #   Column              Non-Null Count   Dtype  \n",
            "---  ------              --------------   -----  \n",
            " 0   index               128976 non-null  int64  \n",
            " 1   Order ID            128976 non-null  object \n",
            " 2   Date                128976 non-null  object \n",
            " 3   Status              128976 non-null  object \n",
            " 4   Fulfilment          128976 non-null  object \n",
            " 5   Sales Channel       128976 non-null  object \n",
            " 6   ship-service-level  128976 non-null  object \n",
            " 7   Category            128976 non-null  object \n",
            " 8   Size                128976 non-null  object \n",
            " 9   Courier Status      128976 non-null  object \n",
            " 10  Qty                 128976 non-null  int64  \n",
            " 11  currency            121176 non-null  object \n",
            " 12  Amount              121176 non-null  float64\n",
            " 13  ship-city           128941 non-null  object \n",
            " 14  ship-state          128941 non-null  object \n",
            " 15  ship-postal-code    128941 non-null  float64\n",
            " 16  ship-country        128941 non-null  object \n",
            " 17  B2B                 128976 non-null  bool   \n",
            " 18  fulfilled-by        39263 non-null   object \n",
            " 19  New                 0 non-null       float64\n",
            " 20  PendingS            0 non-null       float64\n",
            "dtypes: bool(1), float64(4), int64(2), object(14)\n",
            "memory usage: 19.8+ MB\n",
            "None\n"
          ]
        }
      ]
    },
    {
      "cell_type": "code",
      "source": [
        "\n",
        "#display column names\n",
        "print(df.columns)\n"
      ],
      "metadata": {
        "colab": {
          "base_uri": "https://localhost:8080/"
        },
        "id": "mOrtM3zpd3Xm",
        "outputId": "353fb524-a726-4b46-9efc-478eb703318c"
      },
      "execution_count": 3,
      "outputs": [
        {
          "output_type": "stream",
          "name": "stdout",
          "text": [
            "Index(['index', 'Order ID', 'Date', 'Status', 'Fulfilment', 'Sales Channel',\n",
            "       'ship-service-level', 'Category', 'Size', 'Courier Status', 'Qty',\n",
            "       'currency', 'Amount', 'ship-city', 'ship-state', 'ship-postal-code',\n",
            "       'ship-country', 'B2B', 'fulfilled-by', 'New', 'PendingS'],\n",
            "      dtype='object')\n"
          ]
        }
      ]
    },
    {
      "cell_type": "code",
      "source": [
        "#data cleaning\n",
        "#converting date column to datetime format\n",
        "df['Date'] = pd.to_datetime(df['Date'], format='%m-%d-%y',errors='coerce')\n",
        "print(df['Date'])\n",
        "#drop duplicates\n",
        "df.drop_duplicates(inplace=True)\n",
        "print(df)\n"
      ],
      "metadata": {
        "colab": {
          "base_uri": "https://localhost:8080/"
        },
        "id": "qasva4ezd5uP",
        "outputId": "f59bd25d-f8b3-419b-9478-ea963cf6b579"
      },
      "execution_count": 5,
      "outputs": [
        {
          "output_type": "stream",
          "name": "stdout",
          "text": [
            "0        2022-04-30\n",
            "1        2022-04-30\n",
            "2        2022-04-30\n",
            "3        2022-04-30\n",
            "4        2022-04-30\n",
            "            ...    \n",
            "128971   2022-05-31\n",
            "128972   2022-05-31\n",
            "128973   2022-05-31\n",
            "128974   2022-05-31\n",
            "128975   2022-05-31\n",
            "Name: Date, Length: 128976, dtype: datetime64[ns]\n",
            "         index             Order ID       Date                        Status  \\\n",
            "0            0  405-8078784-5731545 2022-04-30                     Cancelled   \n",
            "1            1  171-9198151-1101146 2022-04-30  Shipped - Delivered to Buyer   \n",
            "2            2  404-0687676-7273146 2022-04-30                       Shipped   \n",
            "3            3  403-9615377-8133951 2022-04-30                     Cancelled   \n",
            "4            4  407-1069790-7240320 2022-04-30                       Shipped   \n",
            "...        ...                  ...        ...                           ...   \n",
            "128971  128970  406-6001380-7673107 2022-05-31                       Shipped   \n",
            "128972  128971  402-9551604-7544318 2022-05-31                       Shipped   \n",
            "128973  128972  407-9547469-3152358 2022-05-31                       Shipped   \n",
            "128974  128973  402-6184140-0545956 2022-05-31                       Shipped   \n",
            "128975  128974  408-7436540-8728312 2022-05-31                       Shipped   \n",
            "\n",
            "       Fulfilment Sales Channel ship-service-level  Category Size  \\\n",
            "0        Merchant     Amazon.in           Standard   T-shirt    S   \n",
            "1        Merchant     Amazon.in           Standard     Shirt  3XL   \n",
            "2          Amazon     Amazon.in          Expedited     Shirt   XL   \n",
            "3        Merchant     Amazon.in           Standard   Blazzer    L   \n",
            "4          Amazon     Amazon.in          Expedited  Trousers  3XL   \n",
            "...           ...           ...                ...       ...  ...   \n",
            "128971     Amazon     Amazon.in          Expedited     Shirt   XL   \n",
            "128972     Amazon     Amazon.in          Expedited   T-shirt    M   \n",
            "128973     Amazon     Amazon.in          Expedited   Blazzer  XXL   \n",
            "128974     Amazon     Amazon.in          Expedited   T-shirt   XS   \n",
            "128975     Amazon     Amazon.in          Expedited   T-shirt    S   \n",
            "\n",
            "       Courier Status  ...  currency   Amount    ship-city    ship-state  \\\n",
            "0          On the Way  ...       INR   647.62       MUMBAI   MAHARASHTRA   \n",
            "1             Shipped  ...       INR   406.00    BENGALURU     KARNATAKA   \n",
            "2             Shipped  ...       INR   329.00  NAVI MUMBAI   MAHARASHTRA   \n",
            "3          On the Way  ...       INR   753.33   PUDUCHERRY    PUDUCHERRY   \n",
            "4             Shipped  ...       INR   574.00      CHENNAI    TAMIL NADU   \n",
            "...               ...  ...       ...      ...          ...           ...   \n",
            "128971        Shipped  ...       INR   517.00    HYDERABAD     TELANGANA   \n",
            "128972        Shipped  ...       INR   999.00     GURUGRAM       HARYANA   \n",
            "128973        Shipped  ...       INR   690.00    HYDERABAD     TELANGANA   \n",
            "128974        Shipped  ...       INR  1199.00        Halol       Gujarat   \n",
            "128975        Shipped  ...       INR   696.00       Raipur  CHHATTISGARH   \n",
            "\n",
            "       ship-postal-code  ship-country    B2B  fulfilled-by New  PendingS  \n",
            "0              400081.0            IN  False     Easy Ship NaN       NaN  \n",
            "1              560085.0            IN  False     Easy Ship NaN       NaN  \n",
            "2              410210.0            IN   True           NaN NaN       NaN  \n",
            "3              605008.0            IN  False     Easy Ship NaN       NaN  \n",
            "4              600073.0            IN  False           NaN NaN       NaN  \n",
            "...                 ...           ...    ...           ...  ..       ...  \n",
            "128971         500013.0            IN  False           NaN NaN       NaN  \n",
            "128972         122004.0            IN  False           NaN NaN       NaN  \n",
            "128973         500049.0            IN  False           NaN NaN       NaN  \n",
            "128974         389350.0            IN  False           NaN NaN       NaN  \n",
            "128975         492014.0            IN  False           NaN NaN       NaN  \n",
            "\n",
            "[128808 rows x 21 columns]\n"
          ]
        }
      ]
    },
    {
      "source": [],
      "cell_type": "code",
      "metadata": {
        "id": "skHMyQHEeMpH"
      },
      "execution_count": null,
      "outputs": []
    },
    {
      "cell_type": "code",
      "source": [
        "# Drop unnecessary columns like 'index', 'New', and 'PendingS'\n",
        "df.drop(columns=['index', 'New', 'PendingS'], inplace=True)\n",
        "#Drop null values\n",
        "df.dropna(subset=['Amount', 'ship-city', 'ship-state', 'Category'], inplace=True)\n",
        "print(df)\n"
      ],
      "metadata": {
        "colab": {
          "base_uri": "https://localhost:8080/"
        },
        "id": "rpliIDPVd8QI",
        "outputId": "8b35e8d7-1498-4e11-d4f0-b89e1d318298"
      },
      "execution_count": 6,
      "outputs": [
        {
          "output_type": "stream",
          "name": "stdout",
          "text": [
            "                   Order ID       Date                        Status  \\\n",
            "0       405-8078784-5731545 2022-04-30                     Cancelled   \n",
            "1       171-9198151-1101146 2022-04-30  Shipped - Delivered to Buyer   \n",
            "2       404-0687676-7273146 2022-04-30                       Shipped   \n",
            "3       403-9615377-8133951 2022-04-30                     Cancelled   \n",
            "4       407-1069790-7240320 2022-04-30                       Shipped   \n",
            "...                     ...        ...                           ...   \n",
            "128971  406-6001380-7673107 2022-05-31                       Shipped   \n",
            "128972  402-9551604-7544318 2022-05-31                       Shipped   \n",
            "128973  407-9547469-3152358 2022-05-31                       Shipped   \n",
            "128974  402-6184140-0545956 2022-05-31                       Shipped   \n",
            "128975  408-7436540-8728312 2022-05-31                       Shipped   \n",
            "\n",
            "       Fulfilment Sales Channel ship-service-level  Category Size  \\\n",
            "0        Merchant     Amazon.in           Standard   T-shirt    S   \n",
            "1        Merchant     Amazon.in           Standard     Shirt  3XL   \n",
            "2          Amazon     Amazon.in          Expedited     Shirt   XL   \n",
            "3        Merchant     Amazon.in           Standard   Blazzer    L   \n",
            "4          Amazon     Amazon.in          Expedited  Trousers  3XL   \n",
            "...           ...           ...                ...       ...  ...   \n",
            "128971     Amazon     Amazon.in          Expedited     Shirt   XL   \n",
            "128972     Amazon     Amazon.in          Expedited   T-shirt    M   \n",
            "128973     Amazon     Amazon.in          Expedited   Blazzer  XXL   \n",
            "128974     Amazon     Amazon.in          Expedited   T-shirt   XS   \n",
            "128975     Amazon     Amazon.in          Expedited   T-shirt    S   \n",
            "\n",
            "       Courier Status  Qty currency   Amount    ship-city    ship-state  \\\n",
            "0          On the Way    0      INR   647.62       MUMBAI   MAHARASHTRA   \n",
            "1             Shipped    1      INR   406.00    BENGALURU     KARNATAKA   \n",
            "2             Shipped    1      INR   329.00  NAVI MUMBAI   MAHARASHTRA   \n",
            "3          On the Way    0      INR   753.33   PUDUCHERRY    PUDUCHERRY   \n",
            "4             Shipped    1      INR   574.00      CHENNAI    TAMIL NADU   \n",
            "...               ...  ...      ...      ...          ...           ...   \n",
            "128971        Shipped    1      INR   517.00    HYDERABAD     TELANGANA   \n",
            "128972        Shipped    1      INR   999.00     GURUGRAM       HARYANA   \n",
            "128973        Shipped    1      INR   690.00    HYDERABAD     TELANGANA   \n",
            "128974        Shipped    1      INR  1199.00        Halol       Gujarat   \n",
            "128975        Shipped    1      INR   696.00       Raipur  CHHATTISGARH   \n",
            "\n",
            "        ship-postal-code ship-country    B2B fulfilled-by  \n",
            "0               400081.0           IN  False    Easy Ship  \n",
            "1               560085.0           IN  False    Easy Ship  \n",
            "2               410210.0           IN   True          NaN  \n",
            "3               605008.0           IN  False    Easy Ship  \n",
            "4               600073.0           IN  False          NaN  \n",
            "...                  ...          ...    ...          ...  \n",
            "128971          500013.0           IN  False          NaN  \n",
            "128972          122004.0           IN  False          NaN  \n",
            "128973          500049.0           IN  False          NaN  \n",
            "128974          389350.0           IN  False          NaN  \n",
            "128975          492014.0           IN  False          NaN  \n",
            "\n",
            "[120988 rows x 18 columns]\n"
          ]
        }
      ]
    },
    {
      "cell_type": "code",
      "source": [
        "df.rename(columns={\n",
        "    'ship-city': 'City',\n",
        "    'ship-state': 'State',\n",
        "    'ship-country': 'Country',\n",
        "    'Qty': 'Quantity',\n",
        "}, inplace=True)\n"
      ],
      "metadata": {
        "id": "FaG_bqCXd95P"
      },
      "execution_count": 7,
      "outputs": []
    },
    {
      "cell_type": "code",
      "source": [],
      "metadata": {
        "id": "W3AUEvDIecuB"
      },
      "execution_count": null,
      "outputs": []
    }
  ]
}